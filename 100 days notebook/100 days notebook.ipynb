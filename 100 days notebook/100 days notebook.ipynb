{
 "cells": [
  {
   "attachments": {},
   "cell_type": "markdown",
   "metadata": {},
   "source": [
    "# 100 days of code: Udemy"
   ]
  },
  {
   "attachments": {},
   "cell_type": "markdown",
   "metadata": {},
   "source": [
    "Day 2 Project: Tip Calculator"
   ]
  },
  {
   "cell_type": "code",
   "execution_count": 1,
   "metadata": {},
   "outputs": [
    {
     "name": "stdout",
     "output_type": "stream",
     "text": [
      "60.00\n"
     ]
    }
   ],
   "source": [
    "condition = input(\"Do you want to calculate the tip? Type 'yes' or 'no'\")\n",
    "if condition == 'no':\n",
    "    print(\"Bye bye\")\n",
    "else:\n",
    "    total_bill = float(input(\"what was the total bill\"))\n",
    "    tip_percentage = int(input(\"what percentage tip would you like to give?\"))\n",
    "    tip_to_give = total_bill*(tip_percentage/100)\n",
    "    print(\"{:.2f}\".format(tip_to_give))"
   ]
  },
  {
   "attachments": {},
   "cell_type": "markdown",
   "metadata": {},
   "source": [
    "Day 3 Project: Treasure Island"
   ]
  },
  {
   "cell_type": "code",
   "execution_count": 2,
   "metadata": {},
   "outputs": [
    {
     "name": "stdout",
     "output_type": "stream",
     "text": [
      "Bye bye\n"
     ]
    }
   ],
   "source": [
    "condition = input(\"Do you want to play? Type 'yes' or 'no'\")\n",
    "if condition == 'no':\n",
    "    print(\"Bye bye\")\n",
    "else:\n",
    "    print(\"welcome\")\n",
    "    choice1 = input(\"write your choice, right or left\\n\").lower()\n",
    "    if choice1 == \"left\":\n",
    "        choice2 = input(\"you are in the swiming pool. write your choice, swim or wait\\n\").lower()\n",
    "        if choice2 == \"wait\":\n",
    "            choice3 = input(\"Blue or Red or Yellow\\n\").lower()\n",
    "            if choice3 == \"yellow\":\n",
    "                print(\"You Win\")\n",
    "            else:\n",
    "                print(\"Game Over\")\n",
    "        else:\n",
    "            print(\"Game Over\") \n",
    "    else:\n",
    "        print(\"Game Over\")\t"
   ]
  },
  {
   "attachments": {},
   "cell_type": "markdown",
   "metadata": {},
   "source": [
    "Day 4 Project: Rock Paper Scissors"
   ]
  },
  {
   "cell_type": "code",
   "execution_count": 3,
   "metadata": {},
   "outputs": [
    {
     "name": "stdout",
     "output_type": "stream",
     "text": [
      "Bye bye\n"
     ]
    }
   ],
   "source": [
    "import random\n",
    "condition = input(\"Do you want to play? Type 'yes' or 'no'\")\n",
    "if condition == 'no':\n",
    "    print(\"Bye bye\")\n",
    "else:\n",
    "    while lets_play:\n",
    "        print(\"welcome\")\n",
    "        user_choice = int(input(\"Press 1 for Rock, 2 for Paper and 3 for Scissors\"))\n",
    "        computer_choice = random.randint(1,3)\n",
    "        print(f'Computer choice is: {computer_choice}')\n",
    "        if user_choice == computer_choice:\n",
    "            print(\"Draw\")\n",
    "            lets_play = int(input(\"Do you want to play?\\n Press 1 for playing or 0 to exit\"))\n",
    "        elif user_choice > 3 or user_choice < 1:\n",
    "            print(\"Invalid number\")\n",
    "            lets_play = int(input(\"Do you want to play?\\n Press 1 for playing or 0 to exit\"))\n",
    "        elif user_choice == 1 and computer_choice == 3:\n",
    "            print(\"You Win\")\n",
    "            lets_play = int(input(\"Do you want to play?\\n Press 1 for playing or 0 to exit\"))\n",
    "        elif user_choice == 3 and computer_choice == 1:\n",
    "            print(\"Computer Win\")\n",
    "            lets_play = int(input(\"Do you want to play?\\n Press 1 for playing or 0 to exit\"))\n",
    "        elif user_choice < computer_choice:\n",
    "            print(\"Computer Win\")\n",
    "            lets_play = int(input(\"Do you want to play?\\n Press 1 for playing or 0 to exit\"))\n",
    "        else: # user_choice > computer_choice:\n",
    "            print(\"You Win\")\n",
    "            lets_play = int(input(\"Do you want to play?\\n Press 1 for playing or 0 to exit\"))\n",
    "    print(\"Bye bye\")"
   ]
  },
  {
   "attachments": {},
   "cell_type": "markdown",
   "metadata": {},
   "source": [
    "Day 5 Project: Create a Password Generator"
   ]
  },
  {
   "cell_type": "code",
   "execution_count": 4,
   "metadata": {},
   "outputs": [
    {
     "name": "stdout",
     "output_type": "stream",
     "text": [
      "Bye bye\n"
     ]
    }
   ],
   "source": [
    "import random\n",
    "import string\n",
    "'''\n",
    "String constants from string\n",
    "\n",
    "string.ascii_letters    abcdefghijklmnopqrstuvwxyzABCDEFGHIJKLMNOPQRSTUVWXYZ\n",
    "string.digits           0123456789\n",
    "string.punctuation      !”#$%&'()*+,-./:;<=>?@[\\]^_`{|}~\n",
    "'''\n",
    "condition = input(\"Do you want to create a Password? Type 'yes' or 'no'\")\n",
    "if condition == 'no':\n",
    "    print(\"Bye bye\")\n",
    "else:\n",
    "    password = ''\n",
    "    letters = int(input(\"How many letters?\\n\"))\n",
    "    symbols = int(input(\"How many symbols\\n\"))\n",
    "    numbers = int(input(\"How many numbers?\"))\n",
    "\n",
    "    for i in range (letters):\n",
    "        password += (random.choice(string.ascii_letters))\n",
    "    for i in range (symbols):\n",
    "        password += (random.choice(string.digits))\n",
    "    for i in range (numbers):\n",
    "        password += (random.choice(string.punctuation))\n",
    "\n",
    "    password = ''.join(random.sample(password,len(password)))\n",
    "    print(f'your password is: {password}')"
   ]
  },
  {
   "attachments": {},
   "cell_type": "markdown",
   "metadata": {},
   "source": [
    "Day 7 Project: Hangman"
   ]
  },
  {
   "cell_type": "code",
   "execution_count": null,
   "metadata": {},
   "outputs": [],
   "source": [
    "import random\n",
    "from hangman import hangman\n",
    "condition = input(\"Do you want to play? Type 'yes' or 'no'\")\n",
    "if condition == 'no':\n",
    "    print(\"Bye bye\")\n",
    "else:\n",
    "    with open(\"words.txt\") as f:\n",
    "        words_list = [line.rstrip() for line in f]\n",
    "    display = []\n",
    "    lives = 7\n",
    "    chosen_word = random.choice(words_list)\n",
    "    for i in range (len(chosen_word)):\n",
    "        display += '_'\n",
    "    print(' '.join(display))\n",
    "    print(f\"Lives remain: {f}\")\n",
    "    print(hangman[7])\n",
    "    end_of_game = False\n",
    "    while not end_of_game:\n",
    "        guess = (input(\"guess a letter please\\n\").lower())\n",
    "        if guess >= 'a' and guess <= 'z':\n",
    "            if guess in display:\n",
    "                print(f\"You are already guessed the letter {guess}\")\n",
    "            print(f'Your gueesed letter: {guess}')\n",
    "            for index, letter in enumerate(chosen_word):\n",
    "                if guess == letter:\n",
    "                    display[index] = letter\n",
    "            print(' '.join(display))\n",
    "            if guess not in chosen_word:\n",
    "                print(f\"{guess} is wrong guess\")\n",
    "                lives -= 1\n",
    "                print(f\"Lives remain: {lives}\")\n",
    "                if lives == 0:\n",
    "                    end_of_game = True\n",
    "                    print(\"You lose\")\n",
    "                    print(f\"The word is: {chosen_word}\")\n",
    "            if '_' not in display:\n",
    "                end_of_game = True\n",
    "                print(\"You Win\")\n",
    "                print(f\"The word is: {chosen_word}\")\n",
    "            print(hangman[lives])\n",
    "        else:\n",
    "            print(\"Invalid guess\")"
   ]
  },
  {
   "attachments": {},
   "cell_type": "markdown",
   "metadata": {},
   "source": [
    "Day 8 Project: Caesar Cipher"
   ]
  },
  {
   "cell_type": "code",
   "execution_count": 6,
   "metadata": {},
   "outputs": [
    {
     "name": "stdout",
     "output_type": "stream",
     "text": [
      "Bye bye\n"
     ]
    }
   ],
   "source": [
    "condition = input(\"Do you want to play? Type 'yes' or 'no'\")\n",
    "if condition == 'no':\n",
    "    print(\"Bye bye\")\n",
    "else:\n",
    "    alphabets = ['a', 'b', 'c', 'd', 'e', 'f', 'g', 'h', 'i', 'j','k', 'l','m',\n",
    "                'n', 'o', 'p', 'q', 'r', 's', 't', 'u', 'v', 'w', 'x', 'y', 'z']\n",
    "\n",
    "    def caeser(start_text: str, shift_amount: int, cipher_direction: str = 'encode') -> None:\n",
    "        end_text = ''\n",
    "        if cipher_direction == 'decode':\n",
    "            shift_amount *= -1\n",
    "        for chr in start_text:\n",
    "            if chr in alphabets:\n",
    "                position = alphabets.index(chr)\n",
    "                new_position = position + shift_amount\n",
    "                if new_position > 25:\n",
    "                    new_position -= 26\n",
    "                    end_text += alphabets[new_position]\n",
    "                elif new_position < 0:\n",
    "                    new_position += 26\n",
    "                    end_text += alphabets[new_position]\n",
    "                else:\n",
    "                    end_text += alphabets[new_position]\n",
    "            else:\n",
    "                end_text += chr\n",
    "        print(f\"You chose to: {direction} and the result is: {end_text}\")\n",
    "    play_again = True\n",
    "    while play_again:\n",
    "        direction = input(\"Type 'encode' to encrypt or 'decode' to decrypt:\\n\")\n",
    "        text = input(\"Type your message:\\n\").lower()\n",
    "        shift = int(input(\"Type the shift number:\\n\"))\n",
    "        shift %= 25\n",
    "        caeser(start_text=text,shift_amount=shift,cipher_direction=direction)\n",
    "        result = input(\"Do you want play again? 'yes' or 'no\")\n",
    "        if result == 'no':\n",
    "            play_again = False\n",
    "            print(\"Bye bye\")"
   ]
  },
  {
   "attachments": {},
   "cell_type": "markdown",
   "metadata": {},
   "source": [
    "Day 9 Project: Auction"
   ]
  },
  {
   "cell_type": "code",
   "execution_count": 7,
   "metadata": {},
   "outputs": [
    {
     "name": "stdout",
     "output_type": "stream",
     "text": [
      "Bye bye\n"
     ]
    }
   ],
   "source": [
    "end_auction = input(\"Do you want to start an Auction? Type 'yes' or 'no'\\n\")\n",
    "if end_auction == 'no':\n",
    "    print(\"Bye bye\")\n",
    "else:\n",
    "    bids_dict = {}\n",
    "    def find_highest_bidder(bidding_record: dict) -> None:\n",
    "        highest_bid = 0\n",
    "        winner = \"\"\n",
    "        for bidder_key in bidding_record:\n",
    "            if bidding_record[bidder_key] > highest_bid:\n",
    "                highest_bid = bids_dict[bidder_key]\n",
    "                winner = bidder_key\n",
    "        print(f\"The winner is {winner} with a bid of {highest_bid}$\")\n",
    " \n",
    "    while end_auction == 'yes':\n",
    "        name = input(\"what is your name?: \")\n",
    "        bid = int(input(\"what's your bid? $\"))\n",
    "        bids_dict[name] = bid\n",
    "        end_auction = input(\"Are there any other bidders? Type 'yes' or 'no'\\n\")\n",
    "        \n",
    "    find_highest_bidder(bids_dict)\n",
    "    "
   ]
  },
  {
   "attachments": {},
   "cell_type": "markdown",
   "metadata": {},
   "source": [
    "Day 10 Project: Calculator"
   ]
  },
  {
   "cell_type": "code",
   "execution_count": 4,
   "metadata": {},
   "outputs": [
    {
     "name": "stdout",
     "output_type": "stream",
     "text": [
      "Bye bye\n"
     ]
    }
   ],
   "source": [
    "def add(num1:float, num2:float) -> float:\n",
    "    return num1 + num2\n",
    "\n",
    "def subtract(num1:float, num2:float) -> float:\n",
    "    return num1 - num2\n",
    "\n",
    "def multiply(num1:float, num2:float) -> float:\n",
    "    return num1 * num2\n",
    "\n",
    "def divide(num1:float, num2:float) -> float:\n",
    "    return num1 / num2\n",
    "\n",
    "operations_dict = {'+': add, '-': subtract, '*': multiply, '/': divide} \n",
    "\n",
    "def calculator() -> None:\n",
    "    '''Recursion for claculating\n",
    "       again with new numbers.'''\n",
    "    \n",
    "    if input(\"Do you want to close the calculator? Type 'yes' or 'nn\") == \"yes\":\n",
    "        print(\"Bye bye\")\n",
    "        return\n",
    "    num1 = float(input(\"what's the first number?: \"))\n",
    "    should_continue = True\n",
    "\n",
    "    while should_continue:\n",
    "        operation_symbol = input(\"Which operation do you want?\\n Choose from the next operators '+' '-' '*' '/' \")\n",
    "        num2 = float(input(\"what's the second number?: \"))\n",
    "        calculation_function = operations_dict[operation_symbol]\n",
    "        result = calculation_function(num1,num2)\n",
    "        if input(f\"Type 'yes' to continue calculating with {result:.3f}, type 'no' to start a new calaulation: \") == \"y\":\n",
    "            num1 = result\n",
    "        else:\n",
    "            should_continue = False\n",
    "            calculator()\n",
    "calculator()"
   ]
  },
  {
   "attachments": {},
   "cell_type": "markdown",
   "metadata": {},
   "source": [
    "Day 11 Project: Blackjack"
   ]
  },
  {
   "cell_type": "code",
   "execution_count": 12,
   "metadata": {},
   "outputs": [
    {
     "name": "stdout",
     "output_type": "stream",
     "text": [
      "Bye bye\n"
     ]
    }
   ],
   "source": [
    "import random\n",
    "\n",
    "def deal_card(cards: list) -> int:\n",
    "    return random.choice(cards)\n",
    "\n",
    "def calculate_score(player_list: list) -> int:\n",
    "    player_score = sum(player_list)\n",
    "    if player_score == 21 and len(player_list) == 2:\n",
    "        return 0\n",
    "    elif player_score > 21:\n",
    "        if 11 in player_list:\n",
    "            index = player_list.index(11)\n",
    "            player_list[index] = 1\n",
    "            return sum(player_list)\n",
    "        else:\n",
    "            return player_score\n",
    "    else:\n",
    "        return player_score\n",
    "\n",
    "def compare(user_score: int, computer_score: int) -> str:\n",
    "    if user_score == computer_score:\n",
    "        return \"It's a draw!\"\n",
    "    elif computer_score == 0:\n",
    "        return \"You lose! opponent has a Blackjack!\"\n",
    "    elif user_score == 0:\n",
    "        return \"Blackjack! You win\"\n",
    "    elif user_score > 21:\n",
    "        return \"You lose! your score is greater then 21\"\n",
    "    elif computer_score > 21:\n",
    "        return \"You win! opponent score is greater then 21\"\n",
    "    elif user_score > computer_score:\n",
    "        return \"You win!\"\n",
    "    else:\n",
    "        return \"You lose\"\n",
    "\n",
    "def Play_game() -> None:\n",
    "    cards = [11, 2, 3, 4, 5, 6, 7, 8, 9, 10, 10, 10, 10]\n",
    "    user_cards = []\n",
    "    computer_cards = []\n",
    "\n",
    "    for _ in range (2):\n",
    "        user_cards.append(deal_card(cards))\n",
    "        computer_cards.append(deal_card(cards))\n",
    "        \n",
    "    is_game_over = False\n",
    "    while not is_game_over:\n",
    "        user_score = calculate_score(user_cards)\n",
    "        computer_score = calculate_score(computer_cards)\n",
    "        print(f\"Your cards are: {user_cards}, current score is: {user_score}\")\n",
    "        print(f\"Computer's first card is: {computer_cards[0]}\")\n",
    "        if user_score == 0 or computer_score == 0 or user_score > 21:\n",
    "            is_game_over = True\n",
    "        elif input(\"Want to draw another card?: 'y' or 'n' \") == \"y\":\n",
    "            user_cards.append(deal_card(cards))\n",
    "        else:\n",
    "            is_game_over = True\n",
    "            \n",
    "    while computer_score != 0 and computer_score < 17:    \n",
    "        computer_cards.append(deal_card(cards))\n",
    "        computer_score = calculate_score(computer_cards)\n",
    "\n",
    "    print(f\"Your final cards are: {user_cards}, final score is: {user_score}\")\n",
    "    print(f\"Computer's final cards are: {computer_cards}, final score is: {computer_score}\")\n",
    "    print(compare(user_score,computer_score))\n",
    "\n",
    "while input(\"Do you want to play a game?: 'yes' or 'nn' \") == 'yes':\n",
    "    Play_game()\n",
    "\n",
    "print(\"Bye bye\")\n"
   ]
  },
  {
   "attachments": {},
   "cell_type": "markdown",
   "metadata": {},
   "source": [
    "Day 12 Project: Guess the Number"
   ]
  },
  {
   "cell_type": "code",
   "execution_count": 15,
   "metadata": {},
   "outputs": [
    {
     "name": "stdout",
     "output_type": "stream",
     "text": [
      "Bye bye\n"
     ]
    }
   ],
   "source": [
    "import random\n",
    "EASY_LEVEL_TURNS = 10\n",
    "HARD_LEVEL_TURNS = 7\n",
    "\n",
    "condition = input(\"Do you want to play? Type 'yes' or 'no'\")\n",
    "if condition == 'no':\n",
    "    print(\"Bye bye\")\n",
    "else:\n",
    "    def difficulty() -> int:\n",
    "        game_difficulty = input(\"Choose a difficuly. Type 'easy' or 'hard': \")\n",
    "        if game_difficulty == \"easy\":\n",
    "            return EASY_LEVEL_TURNS\n",
    "        else:\n",
    "            return HARD_LEVEL_TURNS\n",
    "        \n",
    "    def check_guess(user_guess: int, random_number: int, number_of_guesses: int) -> int:\n",
    "        if user_guess > random_number:\n",
    "            print(\"Too high. Guess again\")\n",
    "            return number_of_guesses - 1\n",
    "        elif user_guess < random_number:\n",
    "            print(\"Too low. Guess again\")\n",
    "            return number_of_guesses - 1\n",
    "        else:\n",
    "            number_of_guesses = -1\n",
    "            return number_of_guesses\n",
    "        \n",
    "    def game() -> None:\n",
    "        print(\"Welcome to the Guess the Number Game!\")\n",
    "        print(\"Pick a number between 1 and 100\")\n",
    "        random_number = random.randint(1,100)\n",
    "        # print(random_number)\n",
    "        user_guess = 0\n",
    "        number_of_guesses = difficulty()\n",
    "        while random_number != user_guess:\n",
    "            print(f\"Yoa have {number_of_guesses} attempts remaining to guess the number\")\n",
    "            user_guess = int(input(\"Make a guess: \"))\n",
    "            number_of_guesses = check_guess(user_guess, random_number, number_of_guesses)\n",
    "            print(f\"Your guess is: {user_guess}\")\n",
    "            if number_of_guesses == 0:\n",
    "                print(\"You lose\")\n",
    "                return\n",
    "            elif number_of_guesses == -1:\n",
    "                print(f\"Correct! the number is {random_number} You Win!\")\n",
    "                return\n",
    "\n",
    "    game()"
   ]
  }
 ],
 "metadata": {
  "kernelspec": {
   "display_name": "Python 3",
   "language": "python",
   "name": "python3"
  },
  "language_info": {
   "codemirror_mode": {
    "name": "ipython",
    "version": 3
   },
   "file_extension": ".py",
   "mimetype": "text/x-python",
   "name": "python",
   "nbconvert_exporter": "python",
   "pygments_lexer": "ipython3",
   "version": "3.11.0"
  },
  "orig_nbformat": 4
 },
 "nbformat": 4,
 "nbformat_minor": 2
}
